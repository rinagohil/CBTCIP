{
 "cells": [
  {
   "cell_type": "code",
   "execution_count": 1,
   "id": "fc585b75",
   "metadata": {},
   "outputs": [
    {
     "name": "stdout",
     "output_type": "stream",
     "text": [
      "SVM\n",
      "KNN\n",
      "DT\n",
      "RF\n",
      "NB\n"
     ]
    }
   ],
   "source": [
    "import pickle\n",
    "import warnings\n",
    "\n",
    "# Suppress specific warnings from scikit-learn\n",
    "warnings.filterwarnings(\"ignore\", message=\"X does not have valid feature names\")\n",
    "\n",
    "# Load the classifiers from the pickle file\n",
    "file_path = \"all_iris.pkl\"\n",
    "CLF = pickle.load(open(file_path, 'rb'))\n",
    "\n",
    "# Define the names of the classifiers\n",
    "names = [\"SVM\", \"KNN\", \"DT\", \"RF\", \"NB\"]\n",
    "\n",
    "# Iterate over each classifier and print its name\n",
    "for name, clf in zip(names, CLF):\n",
    "    print(name)\n",
    "    # Make a prediction with sample input data\n",
    "    clf.predict([[6.7,3.4,5.4,2.3]])\n"
   ]
  },
  {
   "cell_type": "code",
   "execution_count": 21,
   "id": "44b186a6",
   "metadata": {},
   "outputs": [],
   "source": []
  },
  {
   "cell_type": "code",
   "execution_count": null,
   "id": "55f674de",
   "metadata": {},
   "outputs": [],
   "source": []
  },
  {
   "cell_type": "code",
   "execution_count": 23,
   "id": "2da75f7a",
   "metadata": {},
   "outputs": [],
   "source": []
  },
  {
   "cell_type": "code",
   "execution_count": 24,
   "id": "e7316495",
   "metadata": {},
   "outputs": [],
   "source": []
  },
  {
   "cell_type": "code",
   "execution_count": 26,
   "id": "535a1470",
   "metadata": {},
   "outputs": [],
   "source": [
    "\n"
   ]
  },
  {
   "cell_type": "code",
   "execution_count": null,
   "id": "e6b6df4b",
   "metadata": {},
   "outputs": [],
   "source": []
  },
  {
   "cell_type": "code",
   "execution_count": null,
   "id": "f21c4d4d",
   "metadata": {},
   "outputs": [],
   "source": []
  },
  {
   "cell_type": "code",
   "execution_count": null,
   "id": "384a541e",
   "metadata": {},
   "outputs": [],
   "source": []
  }
 ],
 "metadata": {
  "kernelspec": {
   "display_name": "Python 3 (ipykernel)",
   "language": "python",
   "name": "python3"
  },
  "language_info": {
   "codemirror_mode": {
    "name": "ipython",
    "version": 3
   },
   "file_extension": ".py",
   "mimetype": "text/x-python",
   "name": "python",
   "nbconvert_exporter": "python",
   "pygments_lexer": "ipython3",
   "version": "3.11.5"
  }
 },
 "nbformat": 4,
 "nbformat_minor": 5
}
